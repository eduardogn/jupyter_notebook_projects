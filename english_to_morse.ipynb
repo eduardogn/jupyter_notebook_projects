{
  "cells": [
    {
      "cell_type": "markdown",
      "metadata": {
        "id": "view-in-github",
        "colab_type": "text"
      },
      "source": [
        "<a href=\"https://colab.research.google.com/github/eduardogn/jupyter_notebook_projects/blob/main/english_to_morse.ipynb\" target=\"_parent\"><img src=\"https://colab.research.google.com/assets/colab-badge.svg\" alt=\"Open In Colab\"/></a>"
      ]
    },
    {
      "cell_type": "code",
      "execution_count": 7,
      "metadata": {
        "colab": {
          "base_uri": "https://localhost:8080/"
        },
        "id": "LzDujyGfUuZ9",
        "outputId": "0173eeff-02ba-4df0-9a10-0e64bde7c600"
      },
      "outputs": [
        {
          "name": "stdout",
          "output_type": "stream",
          "text": [
            "Type the word to be translated to Morse code: eduardo\n",
            "Morse code: . -.. ..- .- .-. -.. ---\n",
            "Do you want to stop translating? (Yes/No)No\n",
            "Type the word to be translated to Morse code: eduardo\n",
            "Morse code: . -.. ..- .- .-. -.. ---\n",
            "Do you want to stop translating? (Yes/No)Yes\n"
          ]
        }
      ],
      "source": [
        "english_to_morse ={\n",
        "    'A': '.-',    'B': '-...',  'C': '-.-.',  'D': '-..',   'E': '.',\n",
        "    'F': '..-.',  'G': '--.',   'H': '....',  'I': '..',    'J': '.---',\n",
        "    'K': '-.-',   'L': '.-..',  'M': '--',    'N': '-.',    'O': '---',\n",
        "    'P': '.--.',  'Q': '--.-',  'R': '.-.',   'S': '...',   'T': '-',\n",
        "    'U': '..-',   'V': '...-',  'W': '.--',   'X': '-..-',  'Y': '-.--',\n",
        "    'Z': '--..',\n",
        "    '0': '-----', '1': '.----', '2': '..---', '3': '...--', '4': '....-',\n",
        "    '5': '.....', '6': '-....', '7': '--...', '8': '---..', '9': '----.'\n",
        "}\n",
        "stop = \"\"\n",
        "while stop != \"Yes\":\n",
        "  morse_code = []\n",
        "  text = input(\"Type the word to be translated to Morse code: \")\n",
        "\n",
        "  def translation (text):\n",
        "    for char in text.upper():\n",
        "      morse_code.append(english_to_morse[char])\n",
        "\n",
        "    return ' '.join(morse_code)\n",
        "\n",
        "\n",
        "  morse_code_output = translation(text)\n",
        "  print(\"Morse code:\", morse_code_output)\n",
        "  stop = input(\"Do you want to stop translating? (Yes/No)\")\n",
        "\n"
      ]
    }
  ],
  "metadata": {
    "colab": {
      "provenance": [],
      "authorship_tag": "ABX9TyNRrfEvfsG1yVkfhCtX8y8O",
      "include_colab_link": true
    },
    "kernelspec": {
      "display_name": "Python 3",
      "name": "python3"
    },
    "language_info": {
      "name": "python"
    }
  },
  "nbformat": 4,
  "nbformat_minor": 0
}